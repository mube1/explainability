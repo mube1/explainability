{
 "cells": [
  {
   "cell_type": "markdown",
   "id": "515b5af4",
   "metadata": {},
   "source": [
    "# This notebook shows how compression impacts attributions\n",
    "\n",
    "### It was inspired by the work in https://arxiv.org/pdf/2010.15054.pdf where they show the same idea in the computer vision"
   ]
  },
  {
   "cell_type": "code",
   "execution_count": 1,
   "id": "0b3317a7",
   "metadata": {},
   "outputs": [],
   "source": [
    "# import torch stuff\n",
    "import torch\n",
    "from torch import nn\n",
    "from torch.nn import functional as F\n",
    "from torch.utils.data import Dataset\n",
    "from torch import optim\n",
    "\n",
    "# import for dataset and error metric \n",
    "from sklearn import datasets\n",
    "from sklearn.preprocessing import MinMaxScaler\n",
    "from sklearn.metrics import mean_absolute_error\n",
    "from sklearn.model_selection import train_test_split\n",
    "\n",
    "# useful stuff\n",
    "import numpy as np\n",
    "import pandas as pd\n",
    "from matplotlib import pyplot as plt"
   ]
  },
  {
   "cell_type": "code",
   "execution_count": 2,
   "id": "d42fd3b8",
   "metadata": {},
   "outputs": [],
   "source": [
    "import random\n",
    "def seed_all(seed):\n",
    "    if not seed:\n",
    "        seed = 10\n",
    "    torch.manual_seed(seed)\n",
    "    np.random.seed(seed)\n",
    "    random.seed(seed)\n",
    "    torch.backends.cudnn.deterministic = True\n",
    "    torch.backends.cudnn.benchmark = False\n",
    "seed_all(1)"
   ]
  },
  {
   "cell_type": "code",
   "execution_count": 3,
   "id": "e09cc8c1",
   "metadata": {},
   "outputs": [],
   "source": [
    "# the boston housing datset\n",
    "boston = datasets.load_boston()\n",
    "\n",
    "\n",
    "X= boston.data\n",
    "y= boston.target\n",
    "X = X.astype(np.float32)\n",
    "y = y.astype(np.float32)\n",
    "X = MinMaxScaler().fit_transform(X.astype(np.float32))\n",
    "X_train, X_test, y_train, y_test = train_test_split(X, y)"
   ]
  },
  {
   "cell_type": "code",
   "execution_count": 4,
   "id": "8cff84ab",
   "metadata": {},
   "outputs": [
    {
     "data": {
      "text/plain": [
       "(379, 13)"
      ]
     },
     "execution_count": 4,
     "metadata": {},
     "output_type": "execute_result"
    }
   ],
   "source": [
    "X_train.shape"
   ]
  },
  {
   "cell_type": "code",
   "execution_count": 5,
   "id": "4cea0661",
   "metadata": {},
   "outputs": [],
   "source": [
    "# Dataset object ...to feed data with arrangment to the network\n",
    "class Data(Dataset):\n",
    "    def __init__(self, x, y):\n",
    "        self.x=x\n",
    "        self.y=y\n",
    "            \n",
    "    def __getitem__(self, i):\n",
    "        return self.x[i], self.y[i]\n",
    "\n",
    "    def __len__(self):\n",
    "        return len(self.x)"
   ]
  },
  {
   "cell_type": "code",
   "execution_count": 6,
   "id": "e2b07c37",
   "metadata": {},
   "outputs": [],
   "source": [
    "# batch size 32\n",
    "bs=32\n",
    "\n",
    "train_loader = torch.utils.data.DataLoader(dataset=Data(X_train,y_train), batch_size=bs)\n",
    "test_loader = torch.utils.data.DataLoader(dataset=Data(X_test,y_test), batch_size=bs,shuffle=False)"
   ]
  },
  {
   "cell_type": "code",
   "execution_count": 7,
   "id": "5a286850",
   "metadata": {},
   "outputs": [],
   "source": [
    "#  Define a model \n",
    "\n",
    "class Model(torch.nn.Module):\n",
    "    def __init__(self, n_features):\n",
    "        super(Model, self).__init__()\n",
    "        self.layer1 = nn.Linear(n_features, 50)\n",
    "        self.layer2= nn.Linear(50, 10)\n",
    "        self.layer3 = nn.Linear(10, 1)\n",
    "\n",
    "    def forward(self, x):\n",
    "        x = F.relu(self.layer1(x))\n",
    "        x = F.relu(self.layer2(x))\n",
    "        return self.layer3(x)"
   ]
  },
  {
   "cell_type": "markdown",
   "id": "82b1be2e",
   "metadata": {},
   "source": [
    "## here two models are defined , one the original, the other to be compressed (pruned)"
   ]
  },
  {
   "cell_type": "code",
   "execution_count": 8,
   "id": "3052b25f",
   "metadata": {},
   "outputs": [],
   "source": [
    "in_features=len(boston.feature_names)\n",
    "\n",
    "# defining two models, one the orginal, the other to \n",
    "Net=Model(in_features)\n",
    "\n",
    "learning_rate=.01\n",
    "# define loss function and optimizer...MSE loss as the task is regression task\n",
    "optim_org = optim.Adam(Net.parameters(), lr=learning_rate)\n",
    "\n",
    "epoches=100"
   ]
  },
  {
   "cell_type": "code",
   "execution_count": 9,
   "id": "ff7eafae",
   "metadata": {},
   "outputs": [],
   "source": [
    "def train(model,optimizer,epoches,reg=0):\n",
    "    criterion = nn.MSELoss(size_average=False)\n",
    "    \n",
    "    model.train()\n",
    "    for epoch in range(epoches):\n",
    "        for inputs, target in train_loader:\n",
    "            optimizer.zero_grad()\n",
    "            y_pred = model(inputs)\n",
    "            \n",
    "            loss = criterion(y_pred, torch.unsqueeze(target,dim=1))\n",
    "            \n",
    "            l2_lambda = 0.001 \n",
    "            #             hyperparameters for regularization\n",
    "            l2_norm = sum(p.pow(2.0).sum() for p in model.parameters())\n",
    "\n",
    "            if reg!=0:\n",
    "                loss = loss + l2_lambda * l2_norm\n",
    "\n",
    "            loss.backward()\n",
    "\n",
    "            optimizer.step()"
   ]
  },
  {
   "cell_type": "markdown",
   "id": "ada321bd",
   "metadata": {},
   "source": [
    "### Train the two models"
   ]
  },
  {
   "cell_type": "code",
   "execution_count": 10,
   "id": "1f98a59c",
   "metadata": {},
   "outputs": [
    {
     "name": "stderr",
     "output_type": "stream",
     "text": [
      "/home/person/.local/lib/python3.8/site-packages/torch/nn/_reduction.py:42: UserWarning: size_average and reduce args will be deprecated, please use reduction='sum' instead.\n",
      "  warnings.warn(warning.format(ret))\n"
     ]
    }
   ],
   "source": [
    "train(Net,optim_org,epoches,reg=0)"
   ]
  },
  {
   "cell_type": "markdown",
   "id": "c726c9cc",
   "metadata": {},
   "source": [
    "## As a performance measure, use Mean Absolute error"
   ]
  },
  {
   "cell_type": "code",
   "execution_count": 11,
   "id": "caa4dd4c",
   "metadata": {},
   "outputs": [],
   "source": [
    "def get_error(model):\n",
    "    y_pred_new = []\n",
    "    y_true_new = []\n",
    "    model.train(False)\n",
    "    for inputs, labels in test_loader:\n",
    "        y_pred_new.extend(model(inputs).data.numpy())\n",
    "        y_true_new.extend(labels.numpy())\n",
    "    \n",
    "    return mean_absolute_error(y_true_new, y_pred_new)"
   ]
  },
  {
   "cell_type": "code",
   "execution_count": 12,
   "id": "eff9311b",
   "metadata": {},
   "outputs": [],
   "source": [
    "import copy"
   ]
  },
  {
   "cell_type": "code",
   "execution_count": 13,
   "id": "587b1604",
   "metadata": {},
   "outputs": [],
   "source": [
    "model=copy.deepcopy(Net)\n",
    "optim_comp= optim.Adam(model.parameters(), lr=learning_rate)"
   ]
  },
  {
   "cell_type": "code",
   "execution_count": 14,
   "id": "b48e40c6",
   "metadata": {},
   "outputs": [
    {
     "name": "stdout",
     "output_type": "stream",
     "text": [
      "Error of the two networks :  2.5662549   2.5662549\n"
     ]
    }
   ],
   "source": [
    "print('Error of the two networks : ', get_error(Net), ' ', get_error(model))"
   ]
  },
  {
   "cell_type": "markdown",
   "id": "97ed4f3c",
   "metadata": {},
   "source": [
    "### take the layers of model to be compressed, and assign variables to keep track of the parameters"
   ]
  },
  {
   "cell_type": "code",
   "execution_count": 15,
   "id": "944c209e",
   "metadata": {},
   "outputs": [],
   "source": [
    "layers=[i for i in model.modules()][1:]\n",
    "# total number of weights \n",
    "num_of_weights=sum([torch.numel(i.weight.data) for i in layers ])\n",
    "num_of_biases=sum([torch.numel(i.bias.data) for i in layers ])\n",
    "total_pars=num_of_biases+ num_of_weights"
   ]
  },
  {
   "cell_type": "code",
   "execution_count": 16,
   "id": "0db91722",
   "metadata": {},
   "outputs": [],
   "source": [
    "# list of all the modules, as layers\n",
    "\n",
    "nonzero_weights= lambda: sum([torch.count_nonzero(i.weight.data) for i in layers ])\n",
    "nonzero_biases= lambda: sum([torch.count_nonzero(i.bias.data) for i in layers ])\n",
    "total_non_zero=lambda : (nonzero_weights()+nonzero_biases()).detach().numpy().item()\n",
    "\n",
    "par_to_prune=[]\n",
    "for i in layers:\n",
    "    par_to_prune.append((i,'weight'))\n",
    "    par_to_prune.append((i,'bias'))\n",
    "par_to_prune=tuple(par_to_prune)"
   ]
  },
  {
   "cell_type": "markdown",
   "id": "0d475b9f",
   "metadata": {},
   "source": [
    "## current stat of the model"
   ]
  },
  {
   "cell_type": "code",
   "execution_count": 17,
   "id": "68607302",
   "metadata": {},
   "outputs": [
    {
     "name": "stdout",
     "output_type": "stream",
     "text": [
      "Total parameters: 1221 \n",
      " Total non-zero paramters :  1221\n"
     ]
    }
   ],
   "source": [
    "print(\n",
    "    'Total parameters:' , total_pars,'\\n','Total non-zero paramters : ', total_non_zero()\n",
    ")"
   ]
  },
  {
   "cell_type": "markdown",
   "id": "0246ebe6",
   "metadata": {},
   "source": [
    "## Pruning library\n",
    "\n",
    "####  global pruning as recommended in https://mitibmwatsonailab.mit.edu/research/blog/comparing-rewinding-and-fine-tuning-in-neural-network-pruning/"
   ]
  },
  {
   "cell_type": "code",
   "execution_count": 18,
   "id": "b1fe10cc",
   "metadata": {},
   "outputs": [],
   "source": [
    "import torch.nn.utils.prune as prune\n",
    "prune_global=lambda : prune.global_unstructured(par_to_prune,prune.L1Unstructured,amount=.2 )"
   ]
  },
  {
   "cell_type": "code",
   "execution_count": 19,
   "id": "b6668693",
   "metadata": {},
   "outputs": [],
   "source": [
    "def rewind():\n",
    "    \"\"\"Rewind model params\"\"\"\n",
    "    for i in layers:\n",
    "        i.weight=i.weight*i.weight_mask\n",
    "        i.bias=i.bias*i.bias_mask"
   ]
  },
  {
   "cell_type": "markdown",
   "id": "e2280033",
   "metadata": {},
   "source": [
    "### Keep track of these things"
   ]
  },
  {
   "cell_type": "code",
   "execution_count": 20,
   "id": "6b635d33",
   "metadata": {},
   "outputs": [],
   "source": [
    "#  A list to keep the accuracy over time\n",
    "acc_over_time=[get_error(model)]\n",
    "\n",
    "#  A list to keep the accuracy over time\n",
    "zeros_over_time=[total_pars-total_non_zero()]\n",
    "\n",
    "# A list of the non zeros over time\n",
    "non_zero_over_time=[total_non_zero()]"
   ]
  },
  {
   "cell_type": "code",
   "execution_count": 21,
   "id": "fbb6e1b6",
   "metadata": {},
   "outputs": [],
   "source": [
    "# Keep an eye on the baseline error\n",
    "baseline=get_error(Net)\n",
    "\n",
    "# how much accuracy are you willing to sacrify ? here I set it to .1 unit error\n",
    "BEAR = .2\n",
    "\n",
    "# Parameter percentage is the weight percentage you want the network to loss\n",
    "P=.85"
   ]
  },
  {
   "cell_type": "code",
   "execution_count": 22,
   "id": "79b751f5",
   "metadata": {},
   "outputs": [
    {
     "data": {
      "text/plain": [
       "2.5662549"
      ]
     },
     "execution_count": 22,
     "metadata": {},
     "output_type": "execute_result"
    }
   ],
   "source": [
    "baseline"
   ]
  },
  {
   "cell_type": "markdown",
   "id": "bd4805db",
   "metadata": {},
   "source": [
    "### The next cell is the compressing loop, (pruning, train, and then rewind )\n",
    "\n",
    "#### It trains with regularization"
   ]
  },
  {
   "cell_type": "code",
   "execution_count": 23,
   "id": "2f2a617d",
   "metadata": {},
   "outputs": [
    {
     "name": "stderr",
     "output_type": "stream",
     "text": [
      "/home/person/.local/lib/python3.8/site-packages/torch/nn/_reduction.py:42: UserWarning: size_average and reduce args will be deprecated, please use reduction='sum' instead.\n",
      "  warnings.warn(warning.format(ret))\n"
     ]
    },
    {
     "name": "stdout",
     "output_type": "stream",
     "text": [
      "Non zero:  977 , performance  2.2 , error :  0.3662548\n"
     ]
    },
    {
     "name": "stderr",
     "output_type": "stream",
     "text": [
      "/home/person/.local/lib/python3.8/site-packages/torch/nn/_reduction.py:42: UserWarning: size_average and reduce args will be deprecated, please use reduction='sum' instead.\n",
      "  warnings.warn(warning.format(ret))\n"
     ]
    },
    {
     "name": "stdout",
     "output_type": "stream",
     "text": [
      "Non zero:  977 , performance  2.2 , error :  0.3662548\n"
     ]
    },
    {
     "name": "stderr",
     "output_type": "stream",
     "text": [
      "/home/person/.local/lib/python3.8/site-packages/torch/nn/_reduction.py:42: UserWarning: size_average and reduce args will be deprecated, please use reduction='sum' instead.\n",
      "  warnings.warn(warning.format(ret))\n"
     ]
    },
    {
     "name": "stdout",
     "output_type": "stream",
     "text": [
      "Non zero:  977 , performance  2.0 , error :  0.56625485\n"
     ]
    },
    {
     "name": "stderr",
     "output_type": "stream",
     "text": [
      "/home/person/.local/lib/python3.8/site-packages/torch/nn/_reduction.py:42: UserWarning: size_average and reduce args will be deprecated, please use reduction='sum' instead.\n",
      "  warnings.warn(warning.format(ret))\n"
     ]
    },
    {
     "name": "stdout",
     "output_type": "stream",
     "text": [
      "Non zero:  977 , performance  2.0 , error :  0.56625485\n"
     ]
    },
    {
     "name": "stderr",
     "output_type": "stream",
     "text": [
      "/home/person/.local/lib/python3.8/site-packages/torch/nn/_reduction.py:42: UserWarning: size_average and reduce args will be deprecated, please use reduction='sum' instead.\n",
      "  warnings.warn(warning.format(ret))\n"
     ]
    },
    {
     "name": "stdout",
     "output_type": "stream",
     "text": [
      "Non zero:  977 , performance  2.2 , error :  0.3662548\n"
     ]
    },
    {
     "name": "stderr",
     "output_type": "stream",
     "text": [
      "/home/person/.local/lib/python3.8/site-packages/torch/nn/_reduction.py:42: UserWarning: size_average and reduce args will be deprecated, please use reduction='sum' instead.\n",
      "  warnings.warn(warning.format(ret))\n"
     ]
    },
    {
     "name": "stdout",
     "output_type": "stream",
     "text": [
      "Non zero:  977 , performance  2.1 , error :  0.46625495\n"
     ]
    },
    {
     "name": "stderr",
     "output_type": "stream",
     "text": [
      "/home/person/.local/lib/python3.8/site-packages/torch/nn/_reduction.py:42: UserWarning: size_average and reduce args will be deprecated, please use reduction='sum' instead.\n",
      "  warnings.warn(warning.format(ret))\n"
     ]
    },
    {
     "name": "stdout",
     "output_type": "stream",
     "text": [
      "Non zero:  977 , performance  2.0 , error :  0.56625485\n"
     ]
    },
    {
     "name": "stderr",
     "output_type": "stream",
     "text": [
      "/home/person/.local/lib/python3.8/site-packages/torch/nn/_reduction.py:42: UserWarning: size_average and reduce args will be deprecated, please use reduction='sum' instead.\n",
      "  warnings.warn(warning.format(ret))\n"
     ]
    },
    {
     "name": "stdout",
     "output_type": "stream",
     "text": [
      "Non zero:  977 , performance  2.1 , error :  0.46625495\n"
     ]
    },
    {
     "name": "stderr",
     "output_type": "stream",
     "text": [
      "/home/person/.local/lib/python3.8/site-packages/torch/nn/_reduction.py:42: UserWarning: size_average and reduce args will be deprecated, please use reduction='sum' instead.\n",
      "  warnings.warn(warning.format(ret))\n"
     ]
    },
    {
     "name": "stdout",
     "output_type": "stream",
     "text": [
      "Non zero:  977 , performance  2.1 , error :  0.46625495\n"
     ]
    },
    {
     "name": "stderr",
     "output_type": "stream",
     "text": [
      "/home/person/.local/lib/python3.8/site-packages/torch/nn/_reduction.py:42: UserWarning: size_average and reduce args will be deprecated, please use reduction='sum' instead.\n",
      "  warnings.warn(warning.format(ret))\n"
     ]
    },
    {
     "name": "stdout",
     "output_type": "stream",
     "text": [
      "Non zero:  977 , performance  2.2 , error :  0.3662548\n"
     ]
    },
    {
     "name": "stderr",
     "output_type": "stream",
     "text": [
      "/home/person/.local/lib/python3.8/site-packages/torch/nn/_reduction.py:42: UserWarning: size_average and reduce args will be deprecated, please use reduction='sum' instead.\n",
      "  warnings.warn(warning.format(ret))\n"
     ]
    },
    {
     "name": "stdout",
     "output_type": "stream",
     "text": [
      "Non zero:  977 , performance  2.3 , error :  0.2662549\n"
     ]
    },
    {
     "name": "stderr",
     "output_type": "stream",
     "text": [
      "/home/person/.local/lib/python3.8/site-packages/torch/nn/_reduction.py:42: UserWarning: size_average and reduce args will be deprecated, please use reduction='sum' instead.\n",
      "  warnings.warn(warning.format(ret))\n"
     ]
    },
    {
     "name": "stdout",
     "output_type": "stream",
     "text": [
      "Non zero:  977 , performance  2.2 , error :  0.3662548\n"
     ]
    },
    {
     "name": "stderr",
     "output_type": "stream",
     "text": [
      "/home/person/.local/lib/python3.8/site-packages/torch/nn/_reduction.py:42: UserWarning: size_average and reduce args will be deprecated, please use reduction='sum' instead.\n",
      "  warnings.warn(warning.format(ret))\n"
     ]
    },
    {
     "name": "stdout",
     "output_type": "stream",
     "text": [
      "Non zero:  977 , performance  2.2 , error :  0.3662548\n"
     ]
    },
    {
     "name": "stderr",
     "output_type": "stream",
     "text": [
      "/home/person/.local/lib/python3.8/site-packages/torch/nn/_reduction.py:42: UserWarning: size_average and reduce args will be deprecated, please use reduction='sum' instead.\n",
      "  warnings.warn(warning.format(ret))\n"
     ]
    },
    {
     "name": "stdout",
     "output_type": "stream",
     "text": [
      "Non zero:  977 , performance  2.2 , error :  0.3662548\n"
     ]
    },
    {
     "name": "stderr",
     "output_type": "stream",
     "text": [
      "/home/person/.local/lib/python3.8/site-packages/torch/nn/_reduction.py:42: UserWarning: size_average and reduce args will be deprecated, please use reduction='sum' instead.\n",
      "  warnings.warn(warning.format(ret))\n"
     ]
    },
    {
     "name": "stdout",
     "output_type": "stream",
     "text": [
      "Non zero:  977 , performance  2.1 , error :  0.46625495\n"
     ]
    },
    {
     "name": "stderr",
     "output_type": "stream",
     "text": [
      "/home/person/.local/lib/python3.8/site-packages/torch/nn/_reduction.py:42: UserWarning: size_average and reduce args will be deprecated, please use reduction='sum' instead.\n",
      "  warnings.warn(warning.format(ret))\n"
     ]
    },
    {
     "name": "stdout",
     "output_type": "stream",
     "text": [
      "Non zero:  977 , performance  2.2 , error :  0.3662548\n"
     ]
    },
    {
     "name": "stderr",
     "output_type": "stream",
     "text": [
      "/home/person/.local/lib/python3.8/site-packages/torch/nn/_reduction.py:42: UserWarning: size_average and reduce args will be deprecated, please use reduction='sum' instead.\n",
      "  warnings.warn(warning.format(ret))\n"
     ]
    },
    {
     "name": "stdout",
     "output_type": "stream",
     "text": [
      "Non zero:  977 , performance  2.2 , error :  0.3662548\n"
     ]
    },
    {
     "name": "stderr",
     "output_type": "stream",
     "text": [
      "/home/person/.local/lib/python3.8/site-packages/torch/nn/_reduction.py:42: UserWarning: size_average and reduce args will be deprecated, please use reduction='sum' instead.\n",
      "  warnings.warn(warning.format(ret))\n"
     ]
    },
    {
     "name": "stdout",
     "output_type": "stream",
     "text": [
      "Non zero:  977 , performance  2.2 , error :  0.3662548\n"
     ]
    },
    {
     "name": "stderr",
     "output_type": "stream",
     "text": [
      "/home/person/.local/lib/python3.8/site-packages/torch/nn/_reduction.py:42: UserWarning: size_average and reduce args will be deprecated, please use reduction='sum' instead.\n",
      "  warnings.warn(warning.format(ret))\n"
     ]
    },
    {
     "name": "stdout",
     "output_type": "stream",
     "text": [
      "Non zero:  977 , performance  2.2 , error :  0.3662548\n"
     ]
    },
    {
     "name": "stderr",
     "output_type": "stream",
     "text": [
      "/home/person/.local/lib/python3.8/site-packages/torch/nn/_reduction.py:42: UserWarning: size_average and reduce args will be deprecated, please use reduction='sum' instead.\n",
      "  warnings.warn(warning.format(ret))\n"
     ]
    },
    {
     "name": "stdout",
     "output_type": "stream",
     "text": [
      "Non zero:  977 , performance  2.3 , error :  0.2662549\n"
     ]
    },
    {
     "name": "stderr",
     "output_type": "stream",
     "text": [
      "/home/person/.local/lib/python3.8/site-packages/torch/nn/_reduction.py:42: UserWarning: size_average and reduce args will be deprecated, please use reduction='sum' instead.\n",
      "  warnings.warn(warning.format(ret))\n"
     ]
    },
    {
     "name": "stdout",
     "output_type": "stream",
     "text": [
      "Non zero:  977 , performance  2.4 , error :  0.16625476\n"
     ]
    },
    {
     "name": "stderr",
     "output_type": "stream",
     "text": [
      "/home/person/.local/lib/python3.8/site-packages/torch/nn/_reduction.py:42: UserWarning: size_average and reduce args will be deprecated, please use reduction='sum' instead.\n",
      "  warnings.warn(warning.format(ret))\n"
     ]
    },
    {
     "name": "stdout",
     "output_type": "stream",
     "text": [
      "Non zero:  782 , performance  2.4 , error :  0.16625476\n"
     ]
    },
    {
     "name": "stderr",
     "output_type": "stream",
     "text": [
      "/home/person/.local/lib/python3.8/site-packages/torch/nn/_reduction.py:42: UserWarning: size_average and reduce args will be deprecated, please use reduction='sum' instead.\n",
      "  warnings.warn(warning.format(ret))\n"
     ]
    },
    {
     "name": "stdout",
     "output_type": "stream",
     "text": [
      "Non zero:  626 , performance  2.3 , error :  0.2662549\n"
     ]
    },
    {
     "name": "stderr",
     "output_type": "stream",
     "text": [
      "/home/person/.local/lib/python3.8/site-packages/torch/nn/_reduction.py:42: UserWarning: size_average and reduce args will be deprecated, please use reduction='sum' instead.\n",
      "  warnings.warn(warning.format(ret))\n"
     ]
    },
    {
     "name": "stdout",
     "output_type": "stream",
     "text": [
      "Non zero:  626 , performance  2.5 , error :  0.066254854\n"
     ]
    },
    {
     "name": "stderr",
     "output_type": "stream",
     "text": [
      "/home/person/.local/lib/python3.8/site-packages/torch/nn/_reduction.py:42: UserWarning: size_average and reduce args will be deprecated, please use reduction='sum' instead.\n",
      "  warnings.warn(warning.format(ret))\n"
     ]
    },
    {
     "name": "stdout",
     "output_type": "stream",
     "text": [
      "Non zero:  501 , performance  2.6 , error :  0.03374505\n"
     ]
    },
    {
     "name": "stderr",
     "output_type": "stream",
     "text": [
      "/home/person/.local/lib/python3.8/site-packages/torch/nn/_reduction.py:42: UserWarning: size_average and reduce args will be deprecated, please use reduction='sum' instead.\n",
      "  warnings.warn(warning.format(ret))\n"
     ]
    },
    {
     "name": "stdout",
     "output_type": "stream",
     "text": [
      "Non zero:  401 , performance  2.4 , error :  0.16625476\n"
     ]
    },
    {
     "name": "stderr",
     "output_type": "stream",
     "text": [
      "/home/person/.local/lib/python3.8/site-packages/torch/nn/_reduction.py:42: UserWarning: size_average and reduce args will be deprecated, please use reduction='sum' instead.\n",
      "  warnings.warn(warning.format(ret))\n"
     ]
    },
    {
     "name": "stdout",
     "output_type": "stream",
     "text": [
      "Non zero:  321 , performance  2.3 , error :  0.2662549\n"
     ]
    },
    {
     "name": "stderr",
     "output_type": "stream",
     "text": [
      "/home/person/.local/lib/python3.8/site-packages/torch/nn/_reduction.py:42: UserWarning: size_average and reduce args will be deprecated, please use reduction='sum' instead.\n",
      "  warnings.warn(warning.format(ret))\n"
     ]
    },
    {
     "name": "stdout",
     "output_type": "stream",
     "text": [
      "Non zero:  321 , performance  2.3 , error :  0.2662549\n"
     ]
    },
    {
     "name": "stderr",
     "output_type": "stream",
     "text": [
      "/home/person/.local/lib/python3.8/site-packages/torch/nn/_reduction.py:42: UserWarning: size_average and reduce args will be deprecated, please use reduction='sum' instead.\n",
      "  warnings.warn(warning.format(ret))\n"
     ]
    },
    {
     "name": "stdout",
     "output_type": "stream",
     "text": [
      "Non zero:  321 , performance  2.3 , error :  0.2662549\n"
     ]
    },
    {
     "name": "stderr",
     "output_type": "stream",
     "text": [
      "/home/person/.local/lib/python3.8/site-packages/torch/nn/_reduction.py:42: UserWarning: size_average and reduce args will be deprecated, please use reduction='sum' instead.\n",
      "  warnings.warn(warning.format(ret))\n"
     ]
    },
    {
     "name": "stdout",
     "output_type": "stream",
     "text": [
      "Non zero:  321 , performance  2.4 , error :  0.16625476\n"
     ]
    },
    {
     "name": "stderr",
     "output_type": "stream",
     "text": [
      "/home/person/.local/lib/python3.8/site-packages/torch/nn/_reduction.py:42: UserWarning: size_average and reduce args will be deprecated, please use reduction='sum' instead.\n",
      "  warnings.warn(warning.format(ret))\n"
     ]
    },
    {
     "name": "stdout",
     "output_type": "stream",
     "text": [
      "Non zero:  257 , performance  2.4 , error :  0.16625476\n"
     ]
    },
    {
     "name": "stderr",
     "output_type": "stream",
     "text": [
      "/home/person/.local/lib/python3.8/site-packages/torch/nn/_reduction.py:42: UserWarning: size_average and reduce args will be deprecated, please use reduction='sum' instead.\n",
      "  warnings.warn(warning.format(ret))\n"
     ]
    },
    {
     "name": "stdout",
     "output_type": "stream",
     "text": [
      "Non zero:  206 , performance  2.5 , error :  0.066254854\n"
     ]
    },
    {
     "name": "stderr",
     "output_type": "stream",
     "text": [
      "/home/person/.local/lib/python3.8/site-packages/torch/nn/_reduction.py:42: UserWarning: size_average and reduce args will be deprecated, please use reduction='sum' instead.\n",
      "  warnings.warn(warning.format(ret))\n"
     ]
    },
    {
     "name": "stdout",
     "output_type": "stream",
     "text": [
      "Non zero:  165 , performance  2.7 , error :  0.1337452\n",
      "Weght percentage :  13.513513513513514  %\n"
     ]
    }
   ],
   "source": [
    "first=True\n",
    "# error=0\n",
    "while True:\n",
    "    if first:\n",
    "        prune_global()    \n",
    "        first=False\n",
    "    elif error<=BEAR:  \n",
    "        prune_global()\n",
    "        \n",
    "    train (model,optim_comp,epoches, reg=1)\n",
    "    rewind()\n",
    "    \n",
    "    \n",
    "    acc_over_time.append(round(get_error(model),1))   \n",
    "    non_zero_over_time.append(total_non_zero())\n",
    "\n",
    "    zeros_over_time.append(total_pars-non_zero_over_time[-1])\n",
    "    error=abs(acc_over_time[-1]- baseline)\n",
    "    print('Non zero: ',non_zero_over_time[-1], ', performance ',acc_over_time[-1],', error : ',error )\n",
    "    \n",
    "    \n",
    "    if zeros_over_time[-1]>P*total_pars and error<=BEAR:\n",
    "        print('Weght percentage : ', 100*non_zero_over_time[-1]/total_pars, ' %')\n",
    "        break    "
   ]
  },
  {
   "cell_type": "markdown",
   "id": "e7ef2131",
   "metadata": {},
   "source": [
    "## The compression is over, 85% of the params are now 0"
   ]
  },
  {
   "cell_type": "code",
   "execution_count": 30,
   "id": "b04cb32f",
   "metadata": {},
   "outputs": [
    {
     "name": "stdout",
     "output_type": "stream",
     "text": [
      "Total parameters: 1221 \n",
      " Total non-zero paramters :  165 \n",
      " Error of the compressed model  2.6673882 \n",
      " Error of the original model  2.5662549\n"
     ]
    }
   ],
   "source": [
    "print(\n",
    "    'Total parameters:' , total_pars,'\\n','Total non-zero paramters : ', total_non_zero(),\n",
    "    \n",
    "    '\\n', 'Error of the compressed model ', get_error(model),\n",
    "    '\\n', 'Error of the original model ', get_error(Net)\n",
    "    \n",
    ")"
   ]
  },
  {
   "cell_type": "markdown",
   "id": "8c506d86",
   "metadata": {},
   "source": [
    "## Now the task is to get explainanations for each\n",
    "### I use shap, a unified apporach for model attribution https://arxiv.org/abs/1705.07874"
   ]
  },
  {
   "cell_type": "code",
   "execution_count": 35,
   "id": "62b047d5",
   "metadata": {},
   "outputs": [],
   "source": [
    "# import shap library\n",
    "import shap"
   ]
  },
  {
   "cell_type": "code",
   "execution_count": 32,
   "id": "cb125911",
   "metadata": {},
   "outputs": [
    {
     "name": "stderr",
     "output_type": "stream",
     "text": [
      "Using a non-full backward hook when the forward contains multiple autograd Nodes is deprecated and will be removed in future versions. This hook will be missing some grad_input. Please use register_full_backward_hook to get the documented behavior.\n"
     ]
    }
   ],
   "source": [
    "# for original model Net\n",
    "explainer = shap.DeepExplainer(Net,torch.tensor(train_loader.dataset.x))\n",
    "shap_values = explainer.shap_values(torch.tensor(test_loader.dataset.x))\n",
    "\n",
    "# for compressed model\n",
    "explainer_compressed = shap.DeepExplainer(model,torch.tensor(train_loader.dataset.x))\n",
    "shap_values_compressed = explainer_compressed.shap_values(torch.tensor(test_loader.dataset.x))"
   ]
  },
  {
   "cell_type": "markdown",
   "id": "bc3a62cb",
   "metadata": {},
   "source": [
    "### Plot the attributions of the original model"
   ]
  },
  {
   "cell_type": "code",
   "execution_count": 33,
   "id": "b9503239",
   "metadata": {},
   "outputs": [
    {
     "data": {
      "image/png": "[encoded data removed]",
      "text/plain": [
       "<Figure size 576x482.4 with 1 Axes>"
      ]
     },
     "metadata": {
      "needs_background": "light"
     },
     "output_type": "display_data"
    }
   ],
   "source": [
    "shap.summary_plot(shap_values, plot_type = 'bar', feature_names = list(boston.feature_names))"
   ]
  },
  {
   "cell_type": "markdown",
   "id": "5cd55526",
   "metadata": {},
   "source": [
    "### Plot the attributions of the original model"
   ]
  },
  {
   "cell_type": "code",
   "execution_count": 36,
   "id": "9dbdd447",
   "metadata": {},
   "outputs": [
    {
     "data": {
      "image/png": "[encoded data removed]",
      "text/plain": [
       "<Figure size 576x482.4 with 1 Axes>"
      ]
     },
     "metadata": {
      "needs_background": "light"
     },
     "output_type": "display_data"
    }
   ],
   "source": [
    "shap.summary_plot(shap_values_compressed, plot_type = 'bar', feature_names = list(boston.feature_names))"
   ]
  },
  {
   "cell_type": "markdown",
   "id": "0e05d38c",
   "metadata": {},
   "source": [
    "### Results\n",
    "\n",
    "As it can clearly be seen, there is a differnece between the two attribution maps.\n",
    "For example, the most prominent feature in the original model was 'LSTAT' but in the second one it is \"DIS'\n",
    "There are other differnces as well.\n",
    "\n",
    "This concludes the note book"
   ]
  },
  {
   "cell_type": "code",
   "execution_count": null,
   "id": "192d0294",
   "metadata": {},
   "outputs": [],
   "source": []
  }
 ],
 "metadata": {
  "kernelspec": {
   "display_name": "Python 3 (ipykernel)",
   "language": "python",
   "name": "python3"
  },
  "language_info": {
   "codemirror_mode": {
    "name": "ipython",
    "version": 3
   },
   "file_extension": ".py",
   "mimetype": "text/x-python",
   "name": "python",
   "nbconvert_exporter": "python",
   "pygments_lexer": "ipython3",
   "version": "3.8.10"
  }
 },
 "nbformat": 4,
 "nbformat_minor": 5
}
