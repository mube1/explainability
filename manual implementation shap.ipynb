{
 "cells": [
  {
   "cell_type": "markdown",
   "id": "2f25fbc7",
   "metadata": {},
   "source": [
    "Shapley values can be used to explain the output of a machine learning model. The Shapley value is a concept in game theory used to determine contribution of each player in a coalition or a cooperative game. \n",
    "\n",
    "More explanations from https://c3.ai/glossary/data-science/shapley-values/\n",
    "\n",
    "### This will implement maually the shapley value"
   ]
  },
  {
   "cell_type": "code",
   "execution_count": 8,
   "id": "d91abf2d",
   "metadata": {},
   "outputs": [],
   "source": [
    "import numpy as np\n",
    "import math\n",
    "import itertools"
   ]
  },
  {
   "cell_type": "code",
   "execution_count": 29,
   "id": "b7e250ff",
   "metadata": {},
   "outputs": [],
   "source": [
    "## Set of sample features\n",
    "features=['a','b','c']"
   ]
  },
  {
   "cell_type": "code",
   "execution_count": 10,
   "id": "d3e34b42",
   "metadata": {},
   "outputs": [],
   "source": [
    "x=np.random.rand(4,3)"
   ]
  },
  {
   "cell_type": "code",
   "execution_count": 30,
   "id": "053c573a",
   "metadata": {},
   "outputs": [],
   "source": [
    "# This cell will create a super_set, a set that includes the set of all subsets\n",
    "c=itertools.combinations\n",
    "\n",
    "super_set=set()\n",
    "for i in range(len(features)):\n",
    "    super_set=super_set.union(list(c(features,i+1))) \n",
    "super_set=list(super_set)"
   ]
  },
  {
   "cell_type": "code",
   "execution_count": null,
   "id": "d08c0363",
   "metadata": {},
   "outputs": [],
   "source": []
  },
  {
   "cell_type": "code",
   "execution_count": 23,
   "id": "619927ff",
   "metadata": {},
   "outputs": [],
   "source": [
    "#  This simpliefied model simmulates a real world ML model, takes in a single point, 3-d, and calculates output\n",
    "def model(x):\n",
    "    if x[0]>1:\n",
    "        return x[0]\n",
    "    \n",
    "    return x[2]*x[0]+3"
   ]
  },
  {
   "cell_type": "code",
   "execution_count": null,
   "id": "78f3d3f6",
   "metadata": {},
   "outputs": [],
   "source": []
  },
  {
   "cell_type": "code",
   "execution_count": 24,
   "id": "84ad7288",
   "metadata": {},
   "outputs": [],
   "source": [
    "# this function takes a set of features in strings...and gives back a binary array whose with only the\n",
    "# ... elemts that correspond to the existing features set to one\n",
    "def mask(feature_set):\n",
    "\n",
    "    mask=[0]*len(features)\n",
    "    for i in feature_set:\n",
    "        try:\n",
    "            idx=features.index(i)\n",
    "            mask[idx]=1\n",
    "        except:\n",
    "            continue\n",
    "    return np.array(mask)"
   ]
  },
  {
   "cell_type": "code",
   "execution_count": 25,
   "id": "d735403c",
   "metadata": {},
   "outputs": [],
   "source": [
    "\n",
    "# Given a feature set of strings and an elet, this will return a set joinng the the elemt to the set\n",
    "def unionize(feature_set,feature):\n",
    "    t=list(feature_set)\n",
    "    t.append(feature)\n",
    "    return tuple(t)"
   ]
  },
  {
   "cell_type": "code",
   "execution_count": 26,
   "id": "1d7c7b65",
   "metadata": {},
   "outputs": [],
   "source": [
    "# Given a feature, this will return the set of all subsets of the Super set that doesnt contain the elt\n",
    "def comp(a_feature):\n",
    "    c=[]\n",
    "\n",
    "    for i in super_set:\n",
    "        try:\n",
    "            idx=i.index(a_feature)\n",
    "            continue\n",
    "        except:\n",
    "            c.append(i)\n",
    "    return c"
   ]
  },
  {
   "cell_type": "code",
   "execution_count": 27,
   "id": "fe76dbc0",
   "metadata": {},
   "outputs": [],
   "source": [
    "\n",
    "# Given a feature set(strings), and a single point from the data,  this will give back the contributuion of the \n",
    "# feature set, to the prediciton of that element\n",
    "def value(feature_set,data):\n",
    "    return model(mask(feature_set)* data)"
   ]
  },
  {
   "cell_type": "code",
   "execution_count": 28,
   "id": "22232a21",
   "metadata": {},
   "outputs": [],
   "source": [
    "# This will calc the shapley value for a single point\n",
    "def shapley_score(feature,x):\n",
    "    c=comp(feature)\n",
    "    s=0\n",
    "    \n",
    "    for i in c:\n",
    "        n_s=len(i)\n",
    "#         s+=math.factorial(n_s) * math.factorial(n-1- n_s) * (value(unionize(i,feature),x)-value(i,x))\n",
    "        s+=value(unionize(i,feature),x)-value(i,x)\n",
    "        s/=math.comb(len(features)-1,n_s) \n",
    "    return s/len(features)"
   ]
  },
  {
   "cell_type": "markdown",
   "id": "25778474",
   "metadata": {},
   "source": [
    "### At this point the shapley values can be calculated by the shapley_score function\n",
    "\n",
    "#### For example, the shapley_score, calculates the contribution of the feature 'a' on the prediction of the data point x[0]"
   ]
  },
  {
   "cell_type": "code",
   "execution_count": 18,
   "id": "7a1602ac",
   "metadata": {},
   "outputs": [
    {
     "data": {
      "text/plain": [
       "0.0029866059478690365"
      ]
     },
     "execution_count": 18,
     "metadata": {},
     "output_type": "execute_result"
    }
   ],
   "source": [
    "shapley_score('a',x[1])"
   ]
  },
  {
   "cell_type": "markdown",
   "id": "38b277e4",
   "metadata": {},
   "source": [
    "#### Next the avg values can be calculated iteratively"
   ]
  },
  {
   "cell_type": "code",
   "execution_count": null,
   "id": "415fbc64",
   "metadata": {},
   "outputs": [],
   "source": []
  },
  {
   "cell_type": "code",
   "execution_count": 21,
   "id": "26ae6d18",
   "metadata": {},
   "outputs": [],
   "source": [
    "# A dict to collect the average shap values of all features\n",
    "all_shapley_scores={}\n",
    "\n",
    "for i in features:\n",
    "    all_shapley_scores[i]=sum([shapley_score(i,j) for j in x])/len(features)    "
   ]
  },
  {
   "cell_type": "code",
   "execution_count": 22,
   "id": "da322809",
   "metadata": {},
   "outputs": [
    {
     "data": {
      "text/plain": [
       "{'a': 0.06458278427797833, 'b': 0.0, 'c': 0.12916556855595665}"
      ]
     },
     "execution_count": 22,
     "metadata": {},
     "output_type": "execute_result"
    }
   ],
   "source": [
    "all_shapley_scores"
   ]
  },
  {
   "cell_type": "markdown",
   "id": "00bf8dcc",
   "metadata": {},
   "source": [
    "#### As apparent from the model function, the second feature is not being used at all. And hence, showing 'b' cont = 0"
   ]
  },
  {
   "cell_type": "code",
   "execution_count": null,
   "id": "9f0cd8ec",
   "metadata": {},
   "outputs": [],
   "source": []
  }
 ],
 "metadata": {
  "kernelspec": {
   "display_name": "Python 3 (ipykernel)",
   "language": "python",
   "name": "python3"
  },
  "language_info": {
   "codemirror_mode": {
    "name": "ipython",
    "version": 3
   },
   "file_extension": ".py",
   "mimetype": "text/x-python",
   "name": "python",
   "nbconvert_exporter": "python",
   "pygments_lexer": "ipython3",
   "version": "3.8.10"
  }
 },
 "nbformat": 4,
 "nbformat_minor": 5
}
